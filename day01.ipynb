{
 "cells": [
  {
   "cell_type": "code",
   "execution_count": 1,
   "metadata": {
    "collapsed": true,
    "ExecuteTime": {
     "end_time": "2023-06-26T13:14:47.507177600Z",
     "start_time": "2023-06-26T13:14:47.052860300Z"
    }
   },
   "outputs": [],
   "source": [
    "import numpy as np\n",
    "import pandas as pd"
   ]
  },
  {
   "cell_type": "code",
   "execution_count": 3,
   "outputs": [],
   "source": [
    "dataset = pd.read_csv('../datasets/Data.csv')\n",
    "X = dataset.iloc[ : , :-1].values\n",
    "Y = dataset.iloc[ : , 3].values"
   ],
   "metadata": {
    "collapsed": false,
    "ExecuteTime": {
     "end_time": "2023-06-26T13:15:02.063661900Z",
     "start_time": "2023-06-26T13:15:02.044654600Z"
    }
   }
  },
  {
   "cell_type": "code",
   "execution_count": 8,
   "outputs": [],
   "source": [
    "from sklearn.impute import SimpleImputer\n",
    "\n",
    "# Create an instance of SimpleImputer\n",
    "imputer = SimpleImputer(strategy=\"mean\")\n",
    "\n",
    "# Fit the imputer on X\n",
    "imputer = imputer.fit(X[:, 1:3])\n",
    "\n",
    "# Transform the missing values in X\n",
    "X[:, 1:3] = imputer.transform(X[:, 1:3])"
   ],
   "metadata": {
    "collapsed": false,
    "ExecuteTime": {
     "end_time": "2023-06-26T13:16:29.323571600Z",
     "start_time": "2023-06-26T13:16:29.182570300Z"
    }
   }
  },
  {
   "cell_type": "code",
   "execution_count": 9,
   "outputs": [],
   "source": [
    "from sklearn.preprocessing import LabelEncoder, OneHotEncoder\n",
    "labelencoder_X = LabelEncoder()\n",
    "X[ : , 0] = labelencoder_X.fit_transform(X[ : , 0])"
   ],
   "metadata": {
    "collapsed": false,
    "ExecuteTime": {
     "end_time": "2023-06-26T13:16:36.691485800Z",
     "start_time": "2023-06-26T13:16:36.670485500Z"
    }
   }
  },
  {
   "cell_type": "markdown",
   "source": [
    "独热编码将每个类别创建为一个独立的二进制特征列，其中只有一个特征为1，表示该样本属于该类别，其他特征都为0。对于颜色特征，如果红色被编码为0，蓝色被编码为1，那么独热编码会创建两个新的特征列，一个用于表示红色，另一个用于表示蓝色。对于红色样本，红色特征列为1，蓝色特征列为0；对于蓝色样本，红色特征列为0，蓝色特征列为1。\n",
    "首先，你可以使用 LabelEncoder 将颜色特征进行标签编码。它将不同的颜色类别分配不同的数值标签，例如将红色编码为0，蓝色编码为1，绿色编码为2，以此类推。这样，颜色特征就被转换为数值型表示，方便算法处理。\n",
    "\n",
    "然而，标签编码后的颜色特征仍然存在一个问题，即数值之间的大小关系。例如，如果将红色编码为0，蓝色编码为1，算法可能会错误地认为蓝色比红色更重要或具有更高的数值特征。为了解决这个问题，你可以使用 OneHotEncoder 对标签编码后的颜色特征进行独热编码。\n",
    "\n",
    "通过独热编码，每个类别都被表示为一个独立的特征，而没有任何大小关系的假设。"
   ],
   "metadata": {
    "collapsed": false
   }
  },
  {
   "cell_type": "markdown",
   "source": [
    "虚拟变量用于将一个具有多个类别或离散取值的特征转换为一组二进制变量。每个二进制变量对应一个特定的类别或取值，其中一个变量被设置为1，表示该观察值属于该类别或取值，而其他变量则被设置为0。\n",
    "例如，考虑一个汽车数据集，其中有一个名为\"颜色\"的特征，它包含红色、蓝色和绿色三个类别。创建虚拟变量将在数据集中添加三个新的二进制变量，分别表示红色、蓝色和绿色。对于每个汽车观察值，只有一个二进制变量被设置为1，表示该汽车的颜色。其他二进制变量都被设置为0。\n",
    "稀疏矩阵表示：\n",
    "\n",
    "在进行独热编码后，特征列的数量可能会显著增加，特别是当原始数据集中的类别数量较多时。如果直接将独热编码后的结果存储为密集的 NumPy 数组，可能会导致内存占用较高，尤其是当数据集规模较大时。"
   ],
   "metadata": {
    "collapsed": false
   }
  },
  {
   "cell_type": "code",
   "execution_count": 11,
   "outputs": [],
   "source": [
    "onehotencoder = OneHotEncoder()\n",
    "X = onehotencoder.fit_transform(X).toarray()\n",
    "labelencoder_Y = LabelEncoder()\n",
    "Y =  labelencoder_Y.fit_transform(Y)"
   ],
   "metadata": {
    "collapsed": false,
    "ExecuteTime": {
     "end_time": "2023-06-26T13:17:30.363454600Z",
     "start_time": "2023-06-26T13:17:30.340453200Z"
    }
   }
  },
  {
   "cell_type": "code",
   "execution_count": 13,
   "outputs": [],
   "source": [
    "from sklearn.model_selection import train_test_split\n",
    "X_train, X_test, Y_train, Y_test = train_test_split(X, Y, test_size=0.2, random_state=0)\n"
   ],
   "metadata": {
    "collapsed": false,
    "ExecuteTime": {
     "end_time": "2023-06-26T13:18:10.636938800Z",
     "start_time": "2023-06-26T13:18:10.620938Z"
    }
   }
  },
  {
   "cell_type": "markdown",
   "source": [
    "此外，如果你的数据在不同的特征之间具有不同的尺度，例如面积的范围是100到1000平方米，而房间数量的范围是1到5，模型也可能会受到影响。在这种情况下，模型可能会过度关注面积这个特征，而忽略了房间数量。\n",
    "\n",
    "为了解决这些问题，你可以使用标准化（Standardization）进行特征缩放。标准化会将特征转换为均值为0、标准差为1的标准正态分布。这样一来，所有特征都具有相同的尺度，并且没有特征会因为数值的绝对大小而在模型中占据主导地位。"
   ],
   "metadata": {
    "collapsed": false
   }
  },
  {
   "cell_type": "code",
   "execution_count": 14,
   "outputs": [],
   "source": [
    "from sklearn.preprocessing import StandardScaler\n",
    "sc_X = StandardScaler()\n",
    "X_train = sc_X.fit_transform(X_train)\n",
    "X_test = sc_X.fit_transform(X_test)\n"
   ],
   "metadata": {
    "collapsed": false,
    "ExecuteTime": {
     "end_time": "2023-06-26T13:18:36.796494600Z",
     "start_time": "2023-06-26T13:18:36.779463800Z"
    }
   }
  }
 ],
 "metadata": {
  "kernelspec": {
   "display_name": "Python 3",
   "language": "python",
   "name": "python3"
  },
  "language_info": {
   "codemirror_mode": {
    "name": "ipython",
    "version": 2
   },
   "file_extension": ".py",
   "mimetype": "text/x-python",
   "name": "python",
   "nbconvert_exporter": "python",
   "pygments_lexer": "ipython2",
   "version": "2.7.6"
  }
 },
 "nbformat": 4,
 "nbformat_minor": 0
}
