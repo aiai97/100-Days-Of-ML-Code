{
 "cells": [
  {
   "cell_type": "code",
   "execution_count": 1,
   "metadata": {
    "collapsed": true,
    "ExecuteTime": {
     "end_time": "2023-06-27T01:33:42.344331700Z",
     "start_time": "2023-06-27T01:33:41.473022800Z"
    }
   },
   "outputs": [],
   "source": [
    "import pandas as pd\n",
    "import numpy as np\n",
    "import matplotlib.pyplot as plt"
   ]
  },
  {
   "cell_type": "code",
   "execution_count": 5,
   "outputs": [],
   "source": [
    "dataset = pd.read_csv('../datasets/studentscores.csv')\n",
    "# 总结起来，X通常用于存储特征数据，而Y通常用于存储目标变量或标签。在机器学习任务中，X表示输入特征，Y表示对应的输出目标或标签。\n",
    "X = dataset.iloc[:,:1].values\n",
    "Y = dataset.iloc[:,1].values"
   ],
   "metadata": {
    "collapsed": false,
    "ExecuteTime": {
     "end_time": "2023-06-27T01:39:15.424985500Z",
     "start_time": "2023-06-27T01:39:15.402986400Z"
    }
   }
  },
  {
   "cell_type": "markdown",
   "source": [
    "以下是一些常见的比例选择和对应的适用场景：\n",
    "\n",
    "70-30（训练集占 70%，测试集占 30%）：适用于较大的数据集，具有足够的样本数量用于训练和测试模型。\n",
    "\n",
    "80-20（训练集占 80%，测试集占 20%）：适用于中等大小的数据集，能够提供充足的样本用于训练，并保留一部分样本进行测试。\n",
    "\n",
    "75-25（训练集占 75%，测试集占 25%）：常用的比例选择，适用于中等大小的数据集，平衡了训练和测试样本数量的需求。"
   ],
   "metadata": {
    "collapsed": false
   }
  },
  {
   "cell_type": "code",
   "execution_count": 6,
   "outputs": [],
   "source": [
    "from sklearn.model_selection import train_test_split\n",
    "X_train, X_test, Y_train, Y_test = train_test_split(X, Y, test_size=0.25, random_state=0)"
   ],
   "metadata": {
    "collapsed": false,
    "ExecuteTime": {
     "end_time": "2023-06-27T01:46:29.806397400Z",
     "start_time": "2023-06-27T01:46:28.963397900Z"
    }
   }
  },
  {
   "cell_type": "markdown",
   "source": [
    "#step2.Fitting simple linear regression model to the training set"
   ],
   "metadata": {
    "collapsed": false
   }
  },
  {
   "cell_type": "markdown",
   "source": [
    "假设你有一个数据集，其中包含以下两列数据：\n",
    "\n",
    "X_train: 用于训练的特征列数据。例如，这可以是一个包含人们的身高信息的列，即训练数据集中的自变量。假设X_train包含了训练集中的前80%的身高数据。\n",
    "\n",
    "Y_train: 对应于训练集的目标变量（标签）。例如，这可以是人们的体重信息，即你希望根据身高来预测的变量。假设Y_train包含了训练集中对应的前80%的体重数据。\n",
    "\n",
    "LinearRegression类在Scikit-learn中实现了最小二乘法来拟合线性回归模型，其中包括梯度下降算法。\n",
    "\n",
    "在LinearRegression的内部实现中，默认使用最小二乘法来估计模型参数，该方法可以通过解析方法或数值优化方法（如梯度下降）来实现。对于小规模的线性回归问题，通常使用解析方法来计算参数的闭合形式解。而对于大规模的数据集，LinearRegression类会默认使用数值优化方法，其中包括梯度下降算法，来逐步调整参数以最小化损失函数。\n",
    "\n",
    "由于Scikit-learn的LinearRegression类自动处理了参数估计的过程，你无需显式指定梯度下降算法。相反，你只需要调用fit()方法将数据传递给模型，并让模型自动选择适当的参数估计方法。"
   ],
   "metadata": {
    "collapsed": false
   }
  },
  {
   "cell_type": "code",
   "execution_count": 8,
   "outputs": [],
   "source": [
    "from sklearn.linear_model import LinearRegression\n",
    "regressor = LinearRegression()\n",
    "regressor = regressor.fit(X_train,Y_train)"
   ],
   "metadata": {
    "collapsed": false,
    "ExecuteTime": {
     "end_time": "2023-06-27T01:46:56.097889700Z",
     "start_time": "2023-06-27T01:46:55.230891600Z"
    }
   }
  },
  {
   "cell_type": "markdown",
   "source": [
    "# step3: predicting the result"
   ],
   "metadata": {
    "collapsed": false
   }
  },
  {
   "cell_type": "code",
   "execution_count": 9,
   "outputs": [],
   "source": [
    "Y_pred = regressor.predict(X_test)"
   ],
   "metadata": {
    "collapsed": false,
    "ExecuteTime": {
     "end_time": "2023-06-27T01:51:09.234678400Z",
     "start_time": "2023-06-27T01:51:09.225708800Z"
    }
   }
  },
  {
   "cell_type": "markdown",
   "source": [
    "# step4 visualization"
   ],
   "metadata": {
    "collapsed": false
   }
  },
  {
   "cell_type": "markdown",
   "source": [
    "## visualising the training results"
   ],
   "metadata": {
    "collapsed": false
   }
  },
  {
   "cell_type": "markdown",
   "source": [
    "这两行代码用于可视化线性回归模型在训练集上的拟合情况。\n",
    "\n",
    "plt.scatter(X_train, Y_train, color='red')：这行代码绘制了训练集数据的散点图，其中 X_train 是训练集的特征数据，Y_train 是对应的目标变量（标签）。这行代码将训练集中的每个数据点以红色散点的形式绘制在图像上。\n",
    "\n",
    "plt.plot(X_train, regressor.predict(X_train), color='blue')：这行代码绘制了线性回归模型在训练集上的拟合直线。其中 X_train 是训练集的特征数据，regressor.predict(X_train) 是模型对训练集特征数据的预测结果。这行代码将预测结果与训练集特征数据连线，形成一条蓝色直线。\n",
    "\n",
    "通过这两行代码，你可以在图像上同时显示出训练集数据点和线性回归模型的拟合直线，以便观察模型的拟合效果。散点图显示了实际数据点的分布情况，而拟合直线表示模型对训练数据的拟合程度。"
   ],
   "metadata": {
    "collapsed": false
   }
  },
  {
   "cell_type": "code",
   "execution_count": null,
   "outputs": [],
   "source": [
    "plt.scatter(X_train,Y_train,color='red')\n",
    "plt.plot(X_train,regressor.predict(X_train),color='blue')"
   ],
   "metadata": {
    "collapsed": false
   }
  },
  {
   "cell_type": "markdown",
   "source": [
    "## visualizing the test results"
   ],
   "metadata": {
    "collapsed": false
   }
  },
  {
   "cell_type": "code",
   "execution_count": 10,
   "outputs": [
    {
     "data": {
      "text/plain": "[<matplotlib.lines.Line2D at 0x2831c19f820>]"
     },
     "execution_count": 10,
     "metadata": {},
     "output_type": "execute_result"
    },
    {
     "data": {
      "text/plain": "<Figure size 640x480 with 1 Axes>",
      "image/png": "[encoded data removed]"
     },
     "metadata": {},
     "output_type": "display_data"
    }
   ],
   "source": [
    "plt.scatter(X_test,Y_test,color='red')\n",
    "plt.plot(X_test,regressor.predict(X_test),color='blue')"
   ],
   "metadata": {
    "collapsed": false,
    "ExecuteTime": {
     "end_time": "2023-06-27T01:57:51.606356600Z",
     "start_time": "2023-06-27T01:57:51.431350300Z"
    }
   }
  },
  {
   "cell_type": "code",
   "execution_count": null,
   "outputs": [],
   "source": [],
   "metadata": {
    "collapsed": false
   }
  }
 ],
 "metadata": {
  "kernelspec": {
   "display_name": "Python 3",
   "language": "python",
   "name": "python3"
  },
  "language_info": {
   "codemirror_mode": {
    "name": "ipython",
    "version": 2
   },
   "file_extension": ".py",
   "mimetype": "text/x-python",
   "name": "python",
   "nbconvert_exporter": "python",
   "pygments_lexer": "ipython2",
   "version": "2.7.6"
  }
 },
 "nbformat": 4,
 "nbformat_minor": 0
}
