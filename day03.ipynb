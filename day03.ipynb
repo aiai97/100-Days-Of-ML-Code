{
 "cells": [
  {
   "cell_type": "markdown",
   "source": [
    "# Step 1: Data Preprocessing\n",
    "### Importing the libraries"
   ],
   "metadata": {
    "collapsed": false
   }
  },
  {
   "cell_type": "code",
   "execution_count": 1,
   "outputs": [],
   "source": [
    "import pandas as pd\n",
    "import numpy as np"
   ],
   "metadata": {
    "collapsed": false,
    "ExecuteTime": {
     "end_time": "2023-06-27T02:02:48.744485200Z",
     "start_time": "2023-06-27T02:02:48.253456400Z"
    }
   }
  },
  {
   "cell_type": "markdown",
   "source": [
    "### Importing the dataset"
   ],
   "metadata": {
    "collapsed": false
   }
  },
  {
   "cell_type": "code",
   "execution_count": 2,
   "outputs": [],
   "source": [
    "dataset = pd.read_csv('../datasets/50_Startups.csv')\n",
    "# 这行代码选择了 dataset 中的所有行（:）和除最后一列之外的所有列（:-1），并将其存储在变量 X 中。这表示 X 包含了数据集的特征数据，而最后一列则被排除在外。\n",
    "X = dataset.iloc[:,:-1].values\n",
    "Y = dataset.iloc[:,4].values"
   ],
   "metadata": {
    "collapsed": false,
    "ExecuteTime": {
     "end_time": "2023-06-27T02:07:17.087981100Z",
     "start_time": "2023-06-27T02:07:17.070980300Z"
    }
   }
  },
  {
   "cell_type": "markdown",
   "source": [
    "### Encoding Categorical data"
   ],
   "metadata": {
    "collapsed": false
   }
  },
  {
   "cell_type": "markdown",
   "source": [
    "R&D Spend,Administration,Marketing Spend,State,Profit\n",
    "165349.2,136897.8,471784.1,New York,192261.83\n",
    "162597.7,151377.59,443898.53,California,191792.06\n",
    "153441.51,101145.55,407934.54,Florida,191050.39\n",
    "144372.41,118671.85,383199.62,New York,182901.99\n",
    "142107.34,91391.77,366168.42,Florida,166187.94\n",
    "\n",
    "根据提供的数据集，经过标签编码和独热编码的过程后，数据集 X 的变化如下：\n",
    "+-----+--------------+----------------+------------------+-------+-----------------------+\n",
    "|     | R&D Spend    | Administration | Marketing Spend  | State | Profit                |\n",
    "+-----+--------------+----------------+------------------+-------+-----------------------+\n",
    "| 0   | 165349.2     | 136897.8       | 471784.1         | 2     | 192261.83             |\n",
    "| 1   | 162597.7     | 151377.59      | 443898.53        | 0     | 191792.06             |\n",
    "| 2   | 153441.51    | 101145.55      | 407934.54        | 1     | 191050.39             |\n",
    "| 3   | 144372.41    | 118671.85      | 383199.62        | 2     | 182901.99             |\n",
    "| 4   | 142107.34    | 91391.77       | 366168.42        | 1     | 166187.94             |\n",
    "+-----+--------------+----------------+------------------+-------+-----------------------+\n",
    "其中，\"State\" 列经过标签编码后被转换为整数标签：\n",
    "\n",
    "New York 转换为 2\n",
    "California 转换为 0\n",
    "Florida 转换为 1\n",
    "然后，针对 \"State\" 列进行独热编码，将其转换为三个新的二进制特征列：\n",
    "\n",
    "\"State_New York\"：[1, 0, 0]\n",
    "\"State_California\"：[0, 1, 0]\n",
    "\"State_Florida\"：[0, 0, 1]\n",
    "X = [[0.0, 0.0, 1.0, 165349.2, 136897.8, 471784.1, 192261.83],\n",
    "     [1.0, 0.0, 0.0, 162597.7, 151377.59, 443898.53, 191792.06],\n",
    "     [0.0, 1.0, 0.0, 153441.51, 101145.55, 407934.54, 191050.39],\n",
    "     [0.0, 0.0, 1.0, 144372.41, 118671.85, 383199.62, 182901.99],\n",
    "     [0.0, 1.0, 0.0, 142107.34, 91391.77, 366168.42, 166187.94]]\n",
    "\n",
    "最终，数据集 X 包含了经过标签编码和独热编码处理后的特征列。"
   ],
   "metadata": {
    "collapsed": false
   }
  },
  {
   "cell_type": "code",
   "execution_count": 6,
   "outputs": [],
   "source": [
    "from sklearn.preprocessing import LabelEncoder,OneHotEncoder\n",
    "labelencoder = LabelEncoder()\n",
    "# X[:, 3] = labelencoder.fit_transform(X[:, 3])：这行代码将第四列数据（索引为3）进行标签编码，并将编码后的结果覆盖原始数据中的第四列。标签编码是指将每个类别映射为一个整数，用于表示该类别。\n",
    "X[:,3] = labelencoder.fit_transform(X[:,3])\n",
    "onehotencoder = OneHotEncoder()\n",
    "# X = onehotencoder.fit_transform(X).toarray()：这行代码使用 OneHotEncoder 对象对数据集 X 进行独热编码，并将编码后的结果转换为一个密集的 NumPy 数组。\n",
    "X = onehotencoder.fit_transform(X).toarray()"
   ],
   "metadata": {
    "collapsed": false,
    "ExecuteTime": {
     "end_time": "2023-06-27T02:45:07.125234400Z",
     "start_time": "2023-06-27T02:45:07.091233800Z"
    }
   }
  },
  {
   "cell_type": "markdown",
   "source": [
    "### Avoiding Dummy Variable Trap"
   ],
   "metadata": {
    "collapsed": false
   }
  },
  {
   "cell_type": "code",
   "execution_count": 8,
   "outputs": [],
   "source": [
    "X = X[: , 1:]"
   ],
   "metadata": {
    "collapsed": false,
    "ExecuteTime": {
     "end_time": "2023-06-27T02:45:26.985968100Z",
     "start_time": "2023-06-27T02:45:26.974969300Z"
    }
   }
  },
  {
   "cell_type": "markdown",
   "source": [
    "### Splitting the dataset into the training set and test set"
   ],
   "metadata": {
    "collapsed": false
   }
  },
  {
   "cell_type": "code",
   "execution_count": 9,
   "outputs": [],
   "source": [
    "from sklearn.model_selection import train_test_split\n",
    "X_train,X_test,Y_train,Y_test = train_test_split(X,Y,test_size=0.2,random_state=0)"
   ],
   "metadata": {
    "collapsed": false,
    "ExecuteTime": {
     "end_time": "2023-06-27T02:53:25.821905100Z",
     "start_time": "2023-06-27T02:53:25.778905600Z"
    }
   }
  },
  {
   "cell_type": "markdown",
   "source": [
    "### Step 2:Fitting  Multiple linear regression to the training set"
   ],
   "metadata": {
    "collapsed": false
   }
  },
  {
   "cell_type": "code",
   "execution_count": 10,
   "outputs": [
    {
     "data": {
      "text/plain": "LinearRegression()",
      "text/html": "<style>#sk-container-id-1 {color: black;background-color: white;}#sk-container-id-1 pre{padding: 0;}#sk-container-id-1 div.sk-toggleable {background-color: white;}#sk-container-id-1 label.sk-toggleable__label {cursor: pointer;display: block;width: 100%;margin-bottom: 0;padding: 0.3em;box-sizing: border-box;text-align: center;}#sk-container-id-1 label.sk-toggleable__label-arrow:before {content: \"▸\";float: left;margin-right: 0.25em;color: #696969;}#sk-container-id-1 label.sk-toggleable__label-arrow:hover:before {color: black;}#sk-container-id-1 div.sk-estimator:hover label.sk-toggleable__label-arrow:before {color: black;}#sk-container-id-1 div.sk-toggleable__content {max-height: 0;max-width: 0;overflow: hidden;text-align: left;background-color: #f0f8ff;}#sk-container-id-1 div.sk-toggleable__content pre {margin: 0.2em;color: black;border-radius: 0.25em;background-color: #f0f8ff;}#sk-container-id-1 input.sk-toggleable__control:checked~div.sk-toggleable__content {max-height: 200px;max-width: 100%;overflow: auto;}#sk-container-id-1 input.sk-toggleable__control:checked~label.sk-toggleable__label-arrow:before {content: \"▾\";}#sk-container-id-1 div.sk-estimator input.sk-toggleable__control:checked~label.sk-toggleable__label {background-color: #d4ebff;}#sk-container-id-1 div.sk-label input.sk-toggleable__control:checked~label.sk-toggleable__label {background-color: #d4ebff;}#sk-container-id-1 input.sk-hidden--visually {border: 0;clip: rect(1px 1px 1px 1px);clip: rect(1px, 1px, 1px, 1px);height: 1px;margin: -1px;overflow: hidden;padding: 0;position: absolute;width: 1px;}#sk-container-id-1 div.sk-estimator {font-family: monospace;background-color: #f0f8ff;border: 1px dotted black;border-radius: 0.25em;box-sizing: border-box;margin-bottom: 0.5em;}#sk-container-id-1 div.sk-estimator:hover {background-color: #d4ebff;}#sk-container-id-1 div.sk-parallel-item::after {content: \"\";width: 100%;border-bottom: 1px solid gray;flex-grow: 1;}#sk-container-id-1 div.sk-label:hover label.sk-toggleable__label {background-color: #d4ebff;}#sk-container-id-1 div.sk-serial::before {content: \"\";position: absolute;border-left: 1px solid gray;box-sizing: border-box;top: 0;bottom: 0;left: 50%;z-index: 0;}#sk-container-id-1 div.sk-serial {display: flex;flex-direction: column;align-items: center;background-color: white;padding-right: 0.2em;padding-left: 0.2em;position: relative;}#sk-container-id-1 div.sk-item {position: relative;z-index: 1;}#sk-container-id-1 div.sk-parallel {display: flex;align-items: stretch;justify-content: center;background-color: white;position: relative;}#sk-container-id-1 div.sk-item::before, #sk-container-id-1 div.sk-parallel-item::before {content: \"\";position: absolute;border-left: 1px solid gray;box-sizing: border-box;top: 0;bottom: 0;left: 50%;z-index: -1;}#sk-container-id-1 div.sk-parallel-item {display: flex;flex-direction: column;z-index: 1;position: relative;background-color: white;}#sk-container-id-1 div.sk-parallel-item:first-child::after {align-self: flex-end;width: 50%;}#sk-container-id-1 div.sk-parallel-item:last-child::after {align-self: flex-start;width: 50%;}#sk-container-id-1 div.sk-parallel-item:only-child::after {width: 0;}#sk-container-id-1 div.sk-dashed-wrapped {border: 1px dashed gray;margin: 0 0.4em 0.5em 0.4em;box-sizing: border-box;padding-bottom: 0.4em;background-color: white;}#sk-container-id-1 div.sk-label label {font-family: monospace;font-weight: bold;display: inline-block;line-height: 1.2em;}#sk-container-id-1 div.sk-label-container {text-align: center;}#sk-container-id-1 div.sk-container {/* jupyter's `normalize.less` sets `[hidden] { display: none; }` but bootstrap.min.css set `[hidden] { display: none !important; }` so we also need the `!important` here to be able to override the default hidden behavior on the sphinx rendered scikit-learn.org. See: https://github.com/scikit-learn/scikit-learn/issues/21755 */display: inline-block !important;position: relative;}#sk-container-id-1 div.sk-text-repr-fallback {display: none;}</style><div id=\"sk-container-id-1\" class=\"sk-top-container\"><div class=\"sk-text-repr-fallback\"><pre>LinearRegression()</pre><b>In a Jupyter environment, please rerun this cell to show the HTML representation or trust the notebook. <br />On GitHub, the HTML representation is unable to render, please try loading this page with nbviewer.org.</b></div><div class=\"sk-container\" hidden><div class=\"sk-item\"><div class=\"sk-estimator sk-toggleable\"><input class=\"sk-toggleable__control sk-hidden--visually\" id=\"sk-estimator-id-1\" type=\"checkbox\" checked><label for=\"sk-estimator-id-1\" class=\"sk-toggleable__label sk-toggleable__label-arrow\">LinearRegression</label><div class=\"sk-toggleable__content\"><pre>LinearRegression()</pre></div></div></div></div></div>"
     },
     "execution_count": 10,
     "metadata": {},
     "output_type": "execute_result"
    }
   ],
   "source": [
    "from sklearn.linear_model import LinearRegression\n",
    "regressor = LinearRegression()\n",
    "regressor.fit(X_train,Y_train)"
   ],
   "metadata": {
    "collapsed": false,
    "ExecuteTime": {
     "end_time": "2023-06-27T02:54:53.078929200Z",
     "start_time": "2023-06-27T02:54:53.013927800Z"
    }
   }
  },
  {
   "cell_type": "markdown",
   "source": [
    "### Step 3: Predicting the Test set results"
   ],
   "metadata": {
    "collapsed": false
   }
  },
  {
   "cell_type": "code",
   "execution_count": 11,
   "outputs": [],
   "source": [
    "y_pred = regressor.predict(X_test)"
   ],
   "metadata": {
    "collapsed": false,
    "ExecuteTime": {
     "end_time": "2023-06-27T02:55:56.734813400Z",
     "start_time": "2023-06-27T02:55:56.715814300Z"
    }
   }
  },
  {
   "cell_type": "code",
   "execution_count": null,
   "outputs": [],
   "source": [],
   "metadata": {
    "collapsed": false
   }
  }
 ],
 "metadata": {
  "kernelspec": {
   "display_name": "Python 3",
   "language": "python",
   "name": "python3"
  },
  "language_info": {
   "codemirror_mode": {
    "name": "ipython",
    "version": 2
   },
   "file_extension": ".py",
   "mimetype": "text/x-python",
   "name": "python",
   "nbconvert_exporter": "python",
   "pygments_lexer": "ipython2",
   "version": "2.7.6"
  }
 },
 "nbformat": 4,
 "nbformat_minor": 0
}
